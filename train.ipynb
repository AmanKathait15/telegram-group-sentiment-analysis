{
 "cells": [
  {
   "cell_type": "code",
   "execution_count": 1,
   "metadata": {},
   "outputs": [],
   "source": [
    "#### Importing all necessary python Modules ######\n",
    "\n",
    "from os import listdir\n",
    "from string import punctuation\n",
    "from collections import Counter\n",
    "\n",
    "from nltk.corpus import stopwords  \n",
    "from nltk.tokenize import word_tokenize\n",
    "\n",
    "from sklearn.feature_extraction.text import CountVectorizer,TfidfVectorizer\n",
    "from sklearn.model_selection import train_test_split\n",
    "\n",
    "from sklearn import metrics \n",
    "\n",
    "import joblib\n",
    "\n",
    "from sklearn.naive_bayes import MultinomialNB \n",
    "from sklearn.neighbors import KNeighborsClassifier\n",
    "from sklearn.ensemble import RandomForestClassifier\n",
    "from sklearn.linear_model import LogisticRegression\n"
   ]
  },
  {
   "cell_type": "code",
   "execution_count": 2,
   "metadata": {},
   "outputs": [
    {
     "name": "stdout",
     "output_type": "stream",
     "text": [
      "films adapted from comic books have had plenty of success , whether they're about superheroes ( batman , superman , spawn ) , or geared toward kids ( casper ) or the arthouse crowd ( ghost world ) , but there's never really been a comic book like from hell before . \n",
      "for starters , it was created by alan moore ( and eddie campbell ) , who brought the medium to a whole new level in the mid '80s with a 12-part series called the watchmen . \n",
      "to say moore and campbell thoroughly researched the subject of jack the ripper would be like saying michael jackson is starting to look a little odd . \n",
      "the book ( or \" graphic novel , \" if you will ) is over 500 pages long and includes nearly 30 more that consist of nothing but footnotes . \n",
      "in other words , don't dismiss this film because of its source . \n",
      "if you can get past the whole comic book thing , you might find another stumbling block in from hell's directors , albert and allen hughes . \n",
      "getting the hughes brothers to direct this seems almost as ludicrous as casting carrot top in , well , anything , but riddle me this : who better to direct a film that's set in the ghetto and features really violent street crime than the mad geniuses behind menace ii society ? \n",
      "the ghetto in question is , of course , whitechapel in 1888 london's east end . \n",
      "it's a filthy , sooty place where the whores ( called \" unfortunates \" ) are starting to get a little nervous about this mysterious psychopath who has been carving through their profession with surgical precision . \n",
      "when the first stiff turns up , copper peter godley ( robbie coltrane , the world is not enough ) calls in inspector frederick abberline ( johnny depp , blow ) to crack the case . \n",
      "abberline , a widower , has prophetic dreams he unsuccessfully tries to quell with copious amounts of absinthe and opium . \n",
      "upon arriving in whitechapel , he befriends an unfortunate named mary kelly ( heather graham , say it isn't so ) and proceeds to investigate the horribly gruesome crimes that even the police surgeon can't stomach . \n",
      "i don't think anyone needs to be briefed on jack the ripper , so i won't go into the particulars here , other than to say moore and campbell have a unique and interesting theory about both the identity of the killer and the reasons he chooses to slay . \n",
      "in the comic , they don't bother cloaking the identity of the ripper , but screenwriters terry hayes ( vertical limit ) and rafael yglesias ( les mis ? rables ) do a good job of keeping him hidden from viewers until the very end . \n",
      "it's funny to watch the locals blindly point the finger of blame at jews and indians because , after all , an englishman could never be capable of committing such ghastly acts . \n",
      "and from hell's ending had me whistling the stonecutters song from the simpsons for days ( \" who holds back the electric car/who made steve guttenberg a star ? \" ) . \n",
      "don't worry - it'll all make sense when you see it . \n",
      "now onto from hell's appearance : it's certainly dark and bleak enough , and it's surprising to see how much more it looks like a tim burton film than planet of the apes did ( at times , it seems like sleepy hollow 2 ) . \n",
      "the print i saw wasn't completely finished ( both color and music had not been finalized , so no comments about marilyn manson ) , but cinematographer peter deming ( don't say a word ) ably captures the dreariness of victorian-era london and helped make the flashy killing scenes remind me of the crazy flashbacks in twin peaks , even though the violence in the film pales in comparison to that in the black-and-white comic . \n",
      "oscar winner martin childs' ( shakespeare in love ) production design turns the original prague surroundings into one creepy place . \n",
      "even the acting in from hell is solid , with the dreamy depp turning in a typically strong performance and deftly handling a british accent . \n",
      "ians holm ( joe gould's secret ) and richardson ( 102 dalmatians ) log in great supporting roles , but the big surprise here is graham . \n",
      "i cringed the first time she opened her mouth , imagining her attempt at an irish accent , but it actually wasn't half bad . \n",
      "the film , however , is all good . \n",
      "2 : 00 - r for strong violence/gore , sexuality , language and drug content \n",
      "\n",
      "['films', 'adapted', 'comic', 'books', 'plenty', 'success', 'whether', 'theyre', 'superheroes', 'batman', 'superman', 'spawn', 'geared', 'toward', 'kids', 'casper', 'arthouse', 'crowd', 'ghost', 'world', 'theres', 'never', 'really', 'comic', 'book', 'like', 'hell', 'starters', 'created', 'alan', 'moore', 'eddie', 'campbell', 'brought', 'medium', 'whole', 'new', 'level', 'mid', 'series', 'called', 'watchmen', 'say', 'moore', 'campbell', 'thoroughly', 'researched', 'subject', 'jack', 'ripper', 'would', 'like', 'saying', 'michael', 'jackson', 'starting', 'look', 'little', 'odd', 'book', 'graphic', 'novel', 'pages', 'long', 'includes', 'nearly', 'consist', 'nothing', 'footnotes', 'words', 'dont', 'dismiss', 'film', 'source', 'get', 'past', 'whole', 'comic', 'book', 'thing', 'might', 'find', 'another', 'stumbling', 'block', 'hells', 'directors', 'albert', 'allen', 'hughes', 'getting', 'hughes', 'brothers', 'direct', 'seems', 'almost', 'ludicrous', 'casting', 'carrot', 'top', 'well', 'anything', 'riddle', 'better', 'direct', 'film', 'thats', 'set', 'ghetto', 'features', 'really', 'violent', 'street', 'crime', 'mad', 'geniuses', 'behind', 'menace', 'ii', 'society', 'ghetto', 'question', 'course', 'whitechapel', 'londons', 'east', 'end', 'filthy', 'sooty', 'place', 'whores', 'called', 'unfortunates', 'starting', 'get', 'little', 'nervous', 'mysterious', 'psychopath', 'carving', 'profession', 'surgical', 'precision', 'first', 'stiff', 'turns', 'copper', 'peter', 'godley', 'robbie', 'coltrane', 'world', 'enough', 'calls', 'inspector', 'frederick', 'abberline', 'johnny', 'depp', 'blow', 'crack', 'case', 'abberline', 'widower', 'prophetic', 'dreams', 'unsuccessfully', 'tries', 'quell', 'copious', 'amounts', 'absinthe', 'opium', 'upon', 'arriving', 'whitechapel', 'befriends', 'unfortunate', 'named', 'mary', 'kelly', 'heather', 'graham', 'say', 'isnt', 'proceeds', 'investigate', 'horribly', 'gruesome', 'crimes', 'even', 'police', 'surgeon', 'cant', 'stomach', 'dont', 'think', 'anyone', 'needs', 'briefed', 'jack', 'ripper', 'wont', 'go', 'particulars', 'say', 'moore', 'campbell', 'unique', 'interesting', 'theory', 'identity', 'killer', 'reasons', 'chooses', 'slay', 'comic', 'dont', 'bother', 'cloaking', 'identity', 'ripper', 'screenwriters', 'terry', 'hayes', 'vertical', 'limit', 'rafael', 'yglesias', 'les', 'mis', 'rables', 'good', 'job', 'keeping', 'hidden', 'viewers', 'end', 'funny', 'watch', 'locals', 'blindly', 'point', 'finger', 'blame', 'jews', 'indians', 'englishman', 'could', 'never', 'capable', 'committing', 'ghastly', 'acts', 'hells', 'ending', 'whistling', 'stonecutters', 'song', 'simpsons', 'days', 'holds', 'back', 'electric', 'carwho', 'made', 'steve', 'guttenberg', 'star', 'dont', 'worry', 'itll', 'make', 'sense', 'see', 'onto', 'hells', 'appearance', 'certainly', 'dark', 'bleak', 'enough', 'surprising', 'see', 'much', 'looks', 'like', 'tim', 'burton', 'film', 'planet', 'apes', 'times', 'seems', 'like', 'sleepy', 'hollow', 'print', 'saw', 'wasnt', 'completely', 'finished', 'color', 'music', 'finalized', 'comments', 'marilyn', 'manson', 'cinematographer', 'peter', 'deming', 'dont', 'say', 'word', 'ably', 'captures', 'dreariness', 'victorianera', 'london', 'helped', 'make', 'flashy', 'killing', 'scenes', 'remind', 'crazy', 'flashbacks', 'twin', 'peaks', 'even', 'though', 'violence', 'film', 'pales', 'comparison', 'blackandwhite', 'comic', 'oscar', 'winner', 'martin', 'childs', 'shakespeare', 'love', 'production', 'design', 'turns', 'original', 'prague', 'surroundings', 'one', 'creepy', 'place', 'even', 'acting', 'hell', 'solid', 'dreamy', 'depp', 'turning', 'typically', 'strong', 'performance', 'deftly', 'handling', 'british', 'accent', 'ians', 'holm', 'joe', 'goulds', 'secret', 'richardson', 'dalmatians', 'log', 'great', 'supporting', 'roles', 'big', 'surprise', 'graham', 'cringed', 'first', 'time', 'opened', 'mouth', 'imagining', 'attempt', 'irish', 'accent', 'actually', 'wasnt', 'half', 'bad', 'film', 'however', 'good', 'strong', 'violencegore', 'sexuality', 'language', 'drug', 'content']\n"
     ]
    }
   ],
   "source": [
    "# load doc into memory\n",
    "def load_doc(filename):\n",
    "\t# open the file as read only\n",
    "\tfile = open(filename, 'r')\n",
    "\t# read all text\n",
    "\ttext = file.read()\n",
    "\t# close the file\n",
    "\tfile.close()\n",
    "\treturn text\n",
    " \n",
    "# turn a doc into clean tokens\n",
    "def clean_doc(doc):\n",
    "\t# split into tokens by white space\n",
    "\ttokens = doc.split()\n",
    "\t# remove punctuation from each token\n",
    "\ttable = str.maketrans('', '',punctuation)\n",
    "\ttokens = [w.translate(table) for w in tokens]\n",
    "\t# remove remaining tokens that are not alphabetic\n",
    "\ttokens = [word for word in tokens if word.isalpha()]\n",
    "\t# filter out stop words\n",
    "\tstop_words = set(stopwords.words('english'))\n",
    "\ttokens = [w for w in tokens if not w in stop_words]\n",
    "\t# filter out short tokens\n",
    "\ttokens = [word for word in tokens if len(word) > 1]\n",
    "\treturn tokens\n",
    "\n",
    "\n",
    "filename = 'dataset/pos/cv000_29590.txt'\n",
    "text = load_doc(filename)\n",
    "\n",
    "print(text)\n",
    "\n",
    "tokens = clean_doc(text)\n",
    "\n",
    "print(tokens)"
   ]
  },
  {
   "cell_type": "code",
   "execution_count": 3,
   "metadata": {},
   "outputs": [],
   "source": [
    "# load doc, clean and return line of tokens\n",
    "def doc_to_line(filename, vocab):\n",
    "\t# load the doc\n",
    "\tdoc = load_doc(filename)\n",
    "\t\n",
    "    # clean doc\n",
    "\ttokens = clean_doc(doc)\n",
    "\t\n",
    "    # filter by vocab\n",
    "\ttokens = [w for w in tokens if w in vocab]\n",
    "\n",
    "\treturn ' '.join(tokens)"
   ]
  },
  {
   "cell_type": "code",
   "execution_count": 4,
   "metadata": {},
   "outputs": [],
   "source": [
    "# load doc and add to vocab\n",
    "def add_doc_to_vocab(filename, vocab):\n",
    "\t# load doc\n",
    "\tdoc = load_doc(filename)\n",
    "\t# clean doc\n",
    "\ttokens = clean_doc(doc)\n",
    "\t# update counts\n",
    "\tvocab.update(tokens)\n",
    "    \n",
    "# load all docs in a directory\n",
    "def process_docs(directory, vocab, is_trian):\n",
    "\tlines = list()\n",
    "\t# walk through all files in the folder\n",
    "\tfor filename in listdir(directory):\n",
    "\t\t# skip any reviews in the test set\n",
    "\t\tif is_trian and filename.startswith('cv9'):\n",
    "\t\t\tcontinue\n",
    "\t\tif not is_trian and not filename.startswith('cv9'):\n",
    "\t\t\tcontinue\n",
    "\t\t# create the full path of the file to open\n",
    "\t\tpath = directory + '/' + filename\n",
    "\t\t# load and clean the doc\n",
    "\t\tline = doc_to_line(path, vocab)\n",
    "\t\t# add to list\n",
    "\t\tlines.append(line)\n",
    "        # add doc to vocab\n",
    "\t\tadd_doc_to_vocab(path, vocab)\n",
    "\treturn lines"
   ]
  },
  {
   "cell_type": "code",
   "execution_count": 5,
   "metadata": {},
   "outputs": [
    {
     "name": "stdout",
     "output_type": "stream",
     "text": [
      "44276\n",
      "[('film', 7983), ('one', 4946), ('movie', 4826), ('like', 3201), ('even', 2262), ('good', 2080), ('time', 2041), ('story', 1907), ('films', 1873), ('would', 1844), ('much', 1824), ('also', 1757), ('characters', 1735), ('get', 1724), ('character', 1703), ('two', 1643), ('first', 1588), ('see', 1557), ('way', 1515), ('well', 1511), ('make', 1418), ('really', 1407), ('little', 1351), ('life', 1334), ('plot', 1288), ('people', 1269), ('bad', 1248), ('could', 1248), ('scene', 1241), ('movies', 1238), ('never', 1201), ('best', 1179), ('new', 1140), ('scenes', 1135), ('man', 1131), ('many', 1130), ('doesnt', 1118), ('know', 1092), ('dont', 1086), ('hes', 1024), ('great', 1014), ('another', 992), ('action', 985), ('love', 977), ('us', 967), ('go', 952), ('director', 948), ('end', 946), ('something', 945), ('still', 936)]\n",
      "25767\n"
     ]
    }
   ],
   "source": [
    "\n",
    "# define vocab\n",
    "vocab = Counter()\n",
    "\n",
    "# add all docs to vocab\n",
    "process_docs('dataset/pos', vocab, True)\n",
    "process_docs('dataset/neg', vocab, True)\n",
    "\n",
    "# print the size of the vocab\n",
    "print(len(vocab))\n",
    "\n",
    "# print the top words in the vocab\n",
    "print(vocab.most_common(50))\n",
    "\n",
    "# keep tokens with a min occurrence\n",
    "min_occurane = 2\n",
    "tokens = [k for k,c in vocab.items() if c >= min_occurane]\n",
    "\n",
    "print(len(tokens))"
   ]
  },
  {
   "cell_type": "code",
   "execution_count": 6,
   "metadata": {},
   "outputs": [],
   "source": [
    "\n",
    "# save list to file\n",
    "def save_list(lines, filename):\n",
    "\t# convert lines to a single blob of text\n",
    "\tdata = '\\n'.join(lines)\n",
    "\t# open file\n",
    "\tfile = open(filename, 'w')\n",
    "\t# write text\n",
    "\tfile.write(data)\n",
    "\t# close file\n",
    "\tfile.close()\n",
    "\n",
    "# save tokens to a vocabulary file\n",
    "save_list(tokens, 'dataset/vocab.txt')"
   ]
  },
  {
   "cell_type": "code",
   "execution_count": 7,
   "metadata": {},
   "outputs": [
    {
     "name": "stdout",
     "output_type": "stream",
     "text": [
      "trailing success brit humour movie industry likes commitments nearly slapstick fish called wanda full monty one film delivered depth former humour magnitude latter film opens narrated documentary reel showing improving economic living standards sheffield cut harsh reality present sheffield become sort visible increase anything amount flourishing industry gaz carlyle spends time workers club sort place jobless people sit around wait job offers plump friend dave addy well former foreman gerald wilkinson sitting around club months without call duty seemingly passing hard time gaz suddenly transformed desperation cannot afford pounds money exwife suddenly finding facing losing custody son goes concoct enterprising get money desperately requires dave gerald problems top lack employment dave also faced paranoia wife leaving current financial state well appearance gerald cheating wife telling layoff long months leaving home work actually longstanding member workers club people real problems solution gaz manages get support sure enough managed get poor jobless join gag perform stripact local pub words looking add stripact featuring hunky beautiful men women willing pay sure well pay full monty simple nature trace ambitious small film delves unemployment desperation drives people also light movie watch despite theme delves lot going never trying manipulative full monty true way hilarity level film soared unexpectedly high audience find way cheated laugh something lacking many comedy films wannabes hollywood carlyle acted psychotic begbie trainspotting rest actors definitely new onscreen however acting presented film satisfying carlyles work stark contrast character trainspotting implying real acting skill flexibility onscreen kudos people involved film especially director peter cattaneo able put together excellent film much potential ending already critical financial success small film full monty humble film deserves applause throughout titanic managed feast eyes soul epic way full monty gives one satisfaction half time\n",
      "900 900\n"
     ]
    }
   ],
   "source": [
    "# load the vocabulary\n",
    "vocab = load_doc('dataset/vocab.txt')\n",
    "\n",
    "vocab = vocab.split()\n",
    "\n",
    "vocab = set(vocab)\n",
    "\n",
    "# load all training reviews\n",
    "positive_lines = process_docs('dataset/pos', vocab, True)\n",
    "\n",
    "negative_lines = process_docs('dataset/neg', vocab, True)\n",
    "\n",
    "print(positive_lines[0])\n",
    "\n",
    "words = negative_lines + positive_lines\n",
    "\n",
    "y = [0 for i in range(0,900)] + [1 for i in range(0,900)]\n",
    "\n",
    "print(len(positive_lines), len(negative_lines))"
   ]
  },
  {
   "cell_type": "code",
   "execution_count": 8,
   "metadata": {},
   "outputs": [
    {
     "name": "stdout",
     "output_type": "stream",
     "text": [
      "[('zycie', 25766), ('zwigoffs', 25765), ('zwicks', 25764), ('zwick', 25763), ('zundel', 25762), ('zuko', 25761), ('zuehlke', 25760), ('zucker', 25759), ('zs', 25758), ('zorro', 25757), ('zorg', 25756), ('zoot', 25755), ('zooms', 25754), ('zoomins', 25753), ('zooming', 25752), ('zoom', 25751), ('zoologist', 25750), ('zoolander', 25749), ('zoo', 25748), ('zones', 25747)]\n",
      "\n",
      "[[0 0 0 ... 0 0 0]\n",
      " [0 0 0 ... 0 0 0]\n",
      " [0 0 0 ... 0 0 0]\n",
      " ...\n",
      " [0 0 0 ... 0 0 0]\n",
      " [0 0 0 ... 0 0 0]\n",
      " [0 0 0 ... 0 0 0]]\n"
     ]
    }
   ],
   "source": [
    "###### Bag of Word Model ######\n",
    "\n",
    "vect = CountVectorizer()\n",
    "\n",
    "vect.fit(words)\n",
    "\n",
    "tmp = list(vect.vocabulary_.items())\n",
    "\n",
    "tmp.sort(reverse = True)\n",
    "\n",
    "print(tmp[0:20])\n",
    "\n",
    "bgw = vect.transform(words)\n",
    "\n",
    "bgw = bgw.toarray()\n",
    "\n",
    "print('',bgw,sep='\\n')"
   ]
  },
  {
   "cell_type": "code",
   "execution_count": 9,
   "metadata": {},
   "outputs": [],
   "source": [
    "# splitting X and y into training and testing sets \n",
    "\n",
    "X_train, X_test, y_train, y_test = train_test_split(bgw, y, test_size=0.3, random_state=0) \n",
    "\n",
    "mnb = MultinomialNB() \n",
    "\n",
    "knc = KNeighborsClassifier()\n",
    "\n",
    "rf = RandomForestClassifier()\n",
    "\n",
    "lr = LogisticRegression()\n",
    "\n",
    "\n",
    "knc.fit(X_train, y_train)\n",
    "\n",
    "rf.fit(X_train, y_train)\n",
    "\n",
    "lr.fit(X_train, y_train)\n",
    "\n",
    "mnb.fit(X_train, y_train) \n",
    "\n",
    "\n",
    "y_pred1 = mnb.predict(X_test) \n",
    "\n",
    "y_pred2 = knc.predict(X_test)\n",
    "\n",
    "y_pred3 = rf.predict(X_test)\n",
    "\n",
    "y_pred4 = lr.predict(X_test) "
   ]
  },
  {
   "cell_type": "code",
   "execution_count": 10,
   "metadata": {},
   "outputs": [
    {
     "name": "stdout",
     "output_type": "stream",
     "text": [
      "MultinomialNB model accuracy(in %): 80.18518518518518\n",
      "KNeighborsClassifier model accuracy(in %): 53.888888888888886\n",
      "RandomForestClassifier model accuracy(in %): 82.22222222222221\n",
      "LogisticRegression model accuracy(in %): 84.25925925925925\n"
     ]
    }
   ],
   "source": [
    "\n",
    "# comparing actual response values (y_test) with predicted response values (y_pred) \n",
    "\n",
    "print(\"MultinomialNB model accuracy(in %):\", metrics.accuracy_score(y_test, y_pred1)*100)\n",
    "\n",
    "print(\"KNeighborsClassifier model accuracy(in %):\", metrics.accuracy_score(y_test, y_pred2)*100)\n",
    "\n",
    "print(\"RandomForestClassifier model accuracy(in %):\", metrics.accuracy_score(y_test, y_pred3)*100)\n",
    "\n",
    "print(\"LogisticRegression model accuracy(in %):\", metrics.accuracy_score(y_test, y_pred4)*100)"
   ]
  },
  {
   "cell_type": "code",
   "execution_count": 11,
   "metadata": {},
   "outputs": [
    {
     "data": {
      "text/plain": [
       "['model/LogisticRegression_bgw.pkl']"
      ]
     },
     "execution_count": 11,
     "metadata": {},
     "output_type": "execute_result"
    }
   ],
   "source": [
    "# Save the model as a pickle in a file \n",
    "\n",
    "joblib.dump(mnb, 'model/MultinomialNB_bgw.pkl') \n",
    "\n",
    "joblib.dump(knc, 'model/KNeighborsClassifier_bgw.pkl') \n",
    "\n",
    "joblib.dump(rf, 'model/RandomForestClassifier_bgw.pkl') \n",
    "\n",
    "joblib.dump(lr, 'model/LogisticRegression_bgw.pkl')"
   ]
  },
  {
   "cell_type": "code",
   "execution_count": 12,
   "metadata": {},
   "outputs": [
    {
     "name": "stdout",
     "output_type": "stream",
     "text": [
      "[('zycie', 25766), ('zwigoffs', 25765), ('zwicks', 25764), ('zwick', 25763), ('zundel', 25762), ('zuko', 25761), ('zuehlke', 25760), ('zucker', 25759), ('zs', 25758), ('zorro', 25757), ('zorg', 25756), ('zoot', 25755), ('zooms', 25754), ('zoomins', 25753), ('zooming', 25752), ('zoom', 25751), ('zoologist', 25750), ('zoolander', 25749), ('zoo', 25748), ('zones', 25747)]\n",
      "\n",
      "[[0. 0. 0. ... 0. 0. 0.]\n",
      " [0. 0. 0. ... 0. 0. 0.]\n",
      " [0. 0. 0. ... 0. 0. 0.]\n",
      " ...\n",
      " [0. 0. 0. ... 0. 0. 0.]\n",
      " [0. 0. 0. ... 0. 0. 0.]\n",
      " [0. 0. 0. ... 0. 0. 0.]]\n"
     ]
    }
   ],
   "source": [
    "###### term frequency–inverse document frequency (Tf-idf) Model ######\n",
    "\n",
    "vect = TfidfVectorizer()\n",
    "\n",
    "vect.fit(words)\n",
    "\n",
    "tmp = list(vect.vocabulary_.items())\n",
    "\n",
    "tmp.sort(reverse = True)\n",
    "\n",
    "print(tmp[0:20])\n",
    "\n",
    "tfidf = vect.transform(words)\n",
    "\n",
    "tfidf = tfidf.toarray()\n",
    "\n",
    "print('',tfidf,sep='\\n')"
   ]
  },
  {
   "cell_type": "code",
   "execution_count": 13,
   "metadata": {},
   "outputs": [],
   "source": [
    "# splitting X and y into training and testing sets \n",
    "\n",
    "X_train, X_test, y_train, y_test = train_test_split(tfidf, y, test_size=0.3, random_state=0) \n",
    "\n",
    "mnb = MultinomialNB() \n",
    "\n",
    "knc = KNeighborsClassifier()\n",
    "\n",
    "rf = RandomForestClassifier()\n",
    "\n",
    "lr = LogisticRegression()\n",
    "\n",
    "\n",
    "knc.fit(X_train, y_train)\n",
    "\n",
    "rf.fit(X_train, y_train)\n",
    "\n",
    "lr.fit(X_train, y_train)\n",
    "\n",
    "mnb.fit(X_train, y_train) \n",
    "\n",
    "\n",
    "y_pred1 = mnb.predict(X_test) \n",
    "\n",
    "y_pred2 = knc.predict(X_test)\n",
    "\n",
    "y_pred3 = rf.predict(X_test)\n",
    "\n",
    "y_pred4 = lr.predict(X_test) "
   ]
  },
  {
   "cell_type": "code",
   "execution_count": 14,
   "metadata": {},
   "outputs": [
    {
     "name": "stdout",
     "output_type": "stream",
     "text": [
      "MultinomialNB model accuracy(in %): 82.5925925925926\n",
      "KNeighborsClassifier model accuracy(in %): 66.66666666666666\n",
      "RandomForestClassifier model accuracy(in %): 78.70370370370371\n",
      "LogisticRegression model accuracy(in %): 83.51851851851852\n"
     ]
    }
   ],
   "source": [
    "# comparing actual response values (y_test) with predicted response values (y_pred) \n",
    "\n",
    "print(\"MultinomialNB model accuracy(in %):\", metrics.accuracy_score(y_test, y_pred1)*100)\n",
    "\n",
    "print(\"KNeighborsClassifier model accuracy(in %):\", metrics.accuracy_score(y_test, y_pred2)*100)\n",
    "\n",
    "print(\"RandomForestClassifier model accuracy(in %):\", metrics.accuracy_score(y_test, y_pred3)*100)\n",
    "\n",
    "print(\"LogisticRegression model accuracy(in %):\", metrics.accuracy_score(y_test, y_pred4)*100)"
   ]
  },
  {
   "cell_type": "code",
   "execution_count": 15,
   "metadata": {},
   "outputs": [
    {
     "data": {
      "text/plain": [
       "['model/LogisticRegression_tfidf.pkl']"
      ]
     },
     "execution_count": 15,
     "metadata": {},
     "output_type": "execute_result"
    }
   ],
   "source": [
    "# Save the model as a pickle in a file \n",
    "\n",
    "joblib.dump(mnb, 'model/MultinomialNB_tfidf.pkl') \n",
    "\n",
    "joblib.dump(knc, 'model/KNeighborsClassifier_tfidf.pkl') \n",
    "\n",
    "joblib.dump(rf, 'model/RandomForestClassifier_tfidf.pkl') \n",
    "\n",
    "joblib.dump(lr, 'model/LogisticRegression_tfidf.pkl') "
   ]
  }
 ],
 "metadata": {
  "kernelspec": {
   "display_name": "Python 3",
   "language": "python",
   "name": "python3"
  },
  "language_info": {
   "codemirror_mode": {
    "name": "ipython",
    "version": 3
   },
   "file_extension": ".py",
   "mimetype": "text/x-python",
   "name": "python",
   "nbconvert_exporter": "python",
   "pygments_lexer": "ipython3",
   "version": "3.8.3"
  }
 },
 "nbformat": 4,
 "nbformat_minor": 4
}
